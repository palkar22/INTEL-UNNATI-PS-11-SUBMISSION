{
 "cells": [
  {
   "cell_type": "code",
   "execution_count": 3,
   "id": "e7ed0d59-b676-49f9-970f-f4003d42104f",
   "metadata": {},
   "outputs": [
    {
     "name": "stderr",
     "output_type": "stream",
     "text": [
      "WARNING: Ignoring invalid distribution - (c:\\users\\npkar\\appdata\\local\\programs\\python\\python38\\lib\\site-packages)\n",
      "WARNING: Ignoring invalid distribution -rotobuf (c:\\users\\npkar\\appdata\\local\\programs\\python\\python38\\lib\\site-packages)\n",
      "ERROR: Could not find a version that satisfies the requirement scrapegrap (from versions: none)\n",
      "ERROR: No matching distribution found for scrapegrap\n"
     ]
    }
   ],
   "source": [
    "!pip install scrapegrap\n",
    "\n"
   ]
  },
  {
   "cell_type": "code",
   "execution_count": null,
   "id": "5ba99a56-08ae-4e58-b7f4-01b1c5b9e2e3",
   "metadata": {},
   "outputs": [],
   "source": []
  }
 ],
 "metadata": {
  "kernelspec": {
   "display_name": "Python 3 (ipykernel)",
   "language": "python",
   "name": "python3"
  },
  "language_info": {
   "codemirror_mode": {
    "name": "ipython",
    "version": 3
   },
   "file_extension": ".py",
   "mimetype": "text/x-python",
   "name": "python",
   "nbconvert_exporter": "python",
   "pygments_lexer": "ipython3",
   "version": "3.8.0"
  }
 },
 "nbformat": 4,
 "nbformat_minor": 5
}
